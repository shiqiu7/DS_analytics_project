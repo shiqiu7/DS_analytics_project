{
 "cells": [
  {
   "cell_type": "markdown",
   "metadata": {},
   "source": [
    "Step1: define the problem\n",
    "1. The business objective: identify factors and 2. build a model to predict if order will be fulfilled on time or delay.\n",
    "2. The problem is supurvised learning, and a classfication problem\n",
    "3. performance evaluation: ROC/AUC,recall/precision"
   ]
  },
  {
   "cell_type": "code",
   "execution_count": 1,
   "metadata": {},
   "outputs": [],
   "source": [
    "#import packages\n",
    "import pandas as pd\n",
    "import numpy as np\n",
    "import seaborn as sns\n",
    "import matplotlib.pyplot as plt\n",
    "%matplotlib inline"
   ]
  },
  {
   "cell_type": "code",
   "execution_count": 2,
   "metadata": {
    "scrolled": true
   },
   "outputs": [
    {
     "name": "stdout",
     "output_type": "stream",
     "text": [
      "Dataframe dimensions: (12065, 58)\n"
     ]
    }
   ],
   "source": [
    "#import data\n",
    "df=pd.read_csv('Consolidated data.csv')\n",
    "print('Dataframe dimensions:', df.shape)\n"
   ]
  },
  {
   "cell_type": "markdown",
   "metadata": {},
   "source": [
    "Step2: Data Cleaning and manipulation before data exploration"
   ]
  },
  {
   "cell_type": "code",
   "execution_count": 3,
   "metadata": {},
   "outputs": [],
   "source": [
    "#subset only delivered and know labels' data\n",
    "df_d=df[(df['SHP_PACK_DLVRY_STS_KEY']==6)&(df['SPDPD_KEY']!=1)&(df['SPDPD_KEY']!=10)]\n",
    "df_d=df_d.dropna(subset=['SPDPD_KEY'])\n",
    "df_d['ontime_ornot']=df_d['SPDPD_KEY']\n",
    "df_d['ontime_ornot']=df_d['ontime_ornot'].replace([2,4],1).replace([3,5,6,7,8,9],0)\n"
   ]
  },
  {
   "cell_type": "code",
   "execution_count": 4,
   "metadata": {},
   "outputs": [
    {
     "data": {
      "text/plain": [
       "0.07815777473780205"
      ]
     },
     "execution_count": 4,
     "metadata": {},
     "output_type": "execute_result"
    }
   ],
   "source": [
    "#ratio of delay:\n",
    "1-sum(df_d['ontime_ornot'])/len(df_d)"
   ]
  },
  {
   "cell_type": "code",
   "execution_count": 6,
   "metadata": {},
   "outputs": [],
   "source": [
    "#drop clearly not relevant columns\n",
    "df_d=df_d.drop(['CREATED_TS','CREATED_USER','UPDATED_TS','UPDATED_USER','FRAUD_CHECK_REQD_IND','CORP_ORDER_IND','CONSUMER_CNTCT_ID','TENANT_ASSOC_ID'],axis=1)\n"
   ]
  },
  {
   "cell_type": "code",
   "execution_count": 7,
   "metadata": {},
   "outputs": [],
   "source": [
    "#unify null\n",
    "df_d=df_d.replace('?',np.nan)\n",
    "df_d=df_d.replace('NULL',np.nan)\n"
   ]
  },
  {
   "cell_type": "code",
   "execution_count": 8,
   "metadata": {},
   "outputs": [],
   "source": [
    "#clean time stamp\n",
    "for i in (5,6,7,9,10,12,15,16,17):\n",
    "    for j in range(len(df_d)):\n",
    "        if type(df_d.iloc[j,i]) is str:\n",
    "            df_d.iloc[j,i]=df_d.iloc[j,i][:-13]\n"
   ]
  },
  {
   "cell_type": "code",
   "execution_count": 9,
   "metadata": {},
   "outputs": [],
   "source": [
    "#clean SHIPPED_PACKAGE_PRICE_AMT\n",
    "df_d['SHIPPED_PACKAGE_PRICE_AMT']=df_d['SHIPPED_PACKAGE_PRICE_AMT'].str.replace(\",\",\"\").astype(float)\n",
    "df_d['SHIPPED_PACKAGE_PRICE_AMT']=df_d['SHIPPED_PACKAGE_PRICE_AMT'].astype(float)"
   ]
  },
  {
   "cell_type": "code",
   "execution_count": 10,
   "metadata": {},
   "outputs": [],
   "source": [
    "#change time stamp date type\n",
    "\n",
    "for i in ('ORDER_TS','EXPECTED_DELIVERY_TS','LEAST_DELIVERY_TS','DETERMINED_DELIVERY_TS','EXPECTED_SHIPMENT_TS','CARRIER_EXPECTED_DELIVERY_TS','CARGO_DEPARTED_TS','INITIAL_DLVR_ATMPT_TS','FINAL_DELIVERY_ATMPT_TS','ACTUAL_DELIVERY_TS','ORDER_REL_TS','ORDER_PLACED_TS'):\n",
    "    df_d[i]=pd.to_datetime(df_d[i])\n",
    "    \n"
   ]
  },
  {
   "cell_type": "code",
   "execution_count": 11,
   "metadata": {},
   "outputs": [],
   "source": [
    "#change index\n",
    "df_d.index=range(len(df_d))\n"
   ]
  },
  {
   "cell_type": "code",
   "execution_count": 12,
   "metadata": {},
   "outputs": [
    {
     "name": "stdout",
     "output_type": "stream",
     "text": [
      "(8772, 51)\n",
      "(2193, 51)\n"
     ]
    }
   ],
   "source": [
    "#create test data: stratified sampling\n",
    "from sklearn.model_selection import StratifiedShuffleSplit\n",
    "sp = StratifiedShuffleSplit(n_splits=1, test_size=0.2, random_state=42) \n",
    "for train_index, test_index in sp.split(df_d, df_d['ontime_ornot']):\n",
    "        df_train = df_d.loc[train_index]\n",
    "        df_test = df_d.loc[test_index]\n",
    "print(df_train.shape)\n",
    "print(df_test.shape)\n",
    "combine=[df_train,df_test]\n"
   ]
  },
  {
   "cell_type": "markdown",
   "metadata": {},
   "source": [
    "Step3: Data exploration\n",
    "(more on the report)"
   ]
  },
  {
   "cell_type": "code",
   "execution_count": 13,
   "metadata": {},
   "outputs": [
    {
     "name": "stdout",
     "output_type": "stream",
     "text": [
      "DSTRBTR_KEY\n",
      "1    0.094772\n",
      "2    0.034188\n",
      "3    0.071545\n",
      "4    0.069767\n",
      "Name: ontime_ornot, dtype: float64\n"
     ]
    },
    {
     "data": {
      "text/plain": [
       "<matplotlib.axes._subplots.AxesSubplot at 0x1a1471add8>"
      ]
     },
     "execution_count": 13,
     "metadata": {},
     "output_type": "execute_result"
    },
    {
     "data": {
      "image/png": "[encoded data removed]",
      "text/plain": [
       "<Figure size 432x288 with 1 Axes>"
      ]
     },
     "metadata": {},
     "output_type": "display_data"
    }
   ],
   "source": [
    "# explore analysis\n",
    "#1. distributor feature:\n",
    "a=1-df_train['ontime_ornot'].groupby(df_train['DSTRBTR_KEY']).apply(np.mean)\n",
    "print(a)\n",
    "sns.barplot(a.index,a.values)\n",
    "#conclusion: distributor is a factor"
   ]
  },
  {
   "cell_type": "code",
   "execution_count": 14,
   "metadata": {},
   "outputs": [
    {
     "data": {
      "text/plain": [
       "order_month\n",
       "1.0     0.166667\n",
       "1.5     0.036304\n",
       "2.0     0.073801\n",
       "2.5     0.106897\n",
       "3.0     0.114667\n",
       "3.5     0.090909\n",
       "4.0     0.086957\n",
       "4.5     0.037415\n",
       "5.0     0.038462\n",
       "5.5     0.071611\n",
       "6.0     0.048980\n",
       "6.5     0.072727\n",
       "7.0     0.052632\n",
       "7.5     0.075975\n",
       "8.0     0.084592\n",
       "8.5     0.043590\n",
       "9.0     0.123393\n",
       "9.5     0.057751\n",
       "10.0    0.037572\n",
       "10.5    0.106017\n",
       "11.0    0.066265\n",
       "11.5    0.113483\n",
       "12.0    0.051667\n",
       "12.5    0.000000\n",
       "Name: ontime_ornot, dtype: float64"
      ]
     },
     "execution_count": 14,
     "metadata": {},
     "output_type": "execute_result"
    },
    {
     "data": {
      "image/png": "[encoded data removed]",
      "text/plain": [
       "<Figure size 432x288 with 1 Axes>"
      ]
     },
     "metadata": {},
     "output_type": "display_data"
    }
   ],
   "source": [
    "#2. feature engineering: order month (half month)\n",
    "combine=[df_train,df_test]\n",
    "for data in combine:\n",
    "    data['order_month']=''\n",
    "    for j in range(len(data)):\n",
    "        if data.iloc[j,5].day in range(15):\n",
    "            a=0\n",
    "        else:\n",
    "            a=0.5\n",
    "        data.iloc[j,51]=data.iloc[j,5].month+a\n",
    "a=1-df_train['ontime_ornot'].groupby(df_train['order_month']).apply(np.mean)\n",
    "sns.barplot(a.index,a.values)\n",
    "a\n",
    "#conclusion: seasonality is an important feature"
   ]
  },
  {
   "cell_type": "code",
   "execution_count": 15,
   "metadata": {},
   "outputs": [
    {
     "data": {
      "text/html": [
       "<div>\n",
       "<style scoped>\n",
       "    .dataframe tbody tr th:only-of-type {\n",
       "        vertical-align: middle;\n",
       "    }\n",
       "\n",
       "    .dataframe tbody tr th {\n",
       "        vertical-align: top;\n",
       "    }\n",
       "\n",
       "    .dataframe thead th {\n",
       "        text-align: right;\n",
       "    }\n",
       "</style>\n",
       "<table border=\"1\" class=\"dataframe\">\n",
       "  <thead>\n",
       "    <tr style=\"text-align: right;\">\n",
       "      <th></th>\n",
       "      <th>SHIPPED_PACKAGE_PRICE_AMT</th>\n",
       "      <th>TOT_AMT</th>\n",
       "    </tr>\n",
       "    <tr>\n",
       "      <th>ontime_ornot</th>\n",
       "      <th></th>\n",
       "      <th></th>\n",
       "    </tr>\n",
       "  </thead>\n",
       "  <tbody>\n",
       "    <tr>\n",
       "      <th>0</th>\n",
       "      <td>36.350598</td>\n",
       "      <td>82.881412</td>\n",
       "    </tr>\n",
       "    <tr>\n",
       "      <th>1</th>\n",
       "      <td>30.382483</td>\n",
       "      <td>88.327062</td>\n",
       "    </tr>\n",
       "  </tbody>\n",
       "</table>\n",
       "</div>"
      ],
      "text/plain": [
       "              SHIPPED_PACKAGE_PRICE_AMT    TOT_AMT\n",
       "ontime_ornot                                      \n",
       "0                             36.350598  82.881412\n",
       "1                             30.382483  88.327062"
      ]
     },
     "execution_count": 15,
     "metadata": {},
     "output_type": "execute_result"
    }
   ],
   "source": [
    "#3. SHIPPED_PACKAGE_PRICE_AMT : more on tableau\n",
    "df_train[['SHIPPED_PACKAGE_PRICE_AMT','TOT_AMT']].groupby(df_train['ontime_ornot']).apply(np.mean)\n",
    "\n",
    "\n"
   ]
  },
  {
   "cell_type": "code",
   "execution_count": 16,
   "metadata": {},
   "outputs": [
    {
     "name": "stdout",
     "output_type": "stream",
     "text": [
      "Expected delivery time for on time\n",
      "count                      8086\n",
      "mean     5 days 17:05:53.476131\n",
      "std      3 days 16:21:17.901670\n",
      "min             0 days 21:48:06\n",
      "25%      2 days 18:49:35.750000\n",
      "50%             4 days 15:18:21\n",
      "75%      8 days 01:53:15.250000\n",
      "max            39 days 21:26:48\n",
      "Name: expected delivery time, dtype: object\n",
      "------------\n",
      "Expected delivery time for delays\n",
      "count                       686\n",
      "mean     4 days 08:31:47.288629\n",
      "std      2 days 18:43:33.584231\n",
      "min             0 days 22:47:52\n",
      "25%      2 days 07:12:52.250000\n",
      "50%             3 days 05:24:30\n",
      "75%      5 days 05:12:17.750000\n",
      "max            14 days 19:29:35\n",
      "Name: expected delivery time, dtype: object\n"
     ]
    }
   ],
   "source": [
    "#4. feature engineering use timestamp-----expected delivery time\n",
    "df_train['expected delivery time']=df_train['EXPECTED_DELIVERY_TS']-df_train['ORDER_TS']\n",
    "df_test['expected delivery time']=df_test['EXPECTED_DELIVERY_TS']-df_test['ORDER_TS']\n",
    "print(\"Expected delivery time for on time\")\n",
    "print(df_train[df_train['ontime_ornot']==1]['expected delivery time'].describe())\n",
    "print('------------')\n",
    "print(\"Expected delivery time for delays\")\n",
    "print(df_train[df_train['ontime_ornot']==0]['expected delivery time'].describe())\n"
   ]
  },
  {
   "cell_type": "code",
   "execution_count": 17,
   "metadata": {},
   "outputs": [],
   "source": [
    "#5. states----on tableau\n",
    "#rename state column\n",
    "\n",
    "df_train=df_train.rename(columns={'CITY_STATE_INFO_Vcol':'state'})  \n",
    "df_test=df_test.rename(columns={'CITY_STATE_INFO_Vcol':'state'}) \n"
   ]
  },
  {
   "cell_type": "code",
   "execution_count": 18,
   "metadata": {},
   "outputs": [
    {
     "name": "stdout",
     "output_type": "stream",
     "text": [
      "Expected delivery range for on time\n",
      "count                      8085\n",
      "mean     1 days 00:28:19.146567\n",
      "std      2 days 01:52:10.152815\n",
      "min             0 days 00:00:00\n",
      "25%             0 days 00:00:00\n",
      "50%             0 days 00:00:00\n",
      "75%             0 days 00:00:00\n",
      "max            15 days 00:00:00\n",
      "Name: delivery time range, dtype: object\n",
      "------------\n",
      "Expected delivery range for delay\n",
      "count                       686\n",
      "mean     0 days 09:16:16.093294\n",
      "std      1 days 08:17:55.925594\n",
      "min             0 days 00:00:00\n",
      "25%             0 days 00:00:00\n",
      "50%             0 days 00:00:00\n",
      "75%             0 days 00:00:00\n",
      "max             6 days 00:00:00\n",
      "Name: delivery time range, dtype: object\n"
     ]
    },
    {
     "data": {
      "text/html": [
       "<div>\n",
       "<style scoped>\n",
       "    .dataframe tbody tr th:only-of-type {\n",
       "        vertical-align: middle;\n",
       "    }\n",
       "\n",
       "    .dataframe tbody tr th {\n",
       "        vertical-align: top;\n",
       "    }\n",
       "\n",
       "    .dataframe thead th {\n",
       "        text-align: right;\n",
       "    }\n",
       "</style>\n",
       "<table border=\"1\" class=\"dataframe\">\n",
       "  <thead>\n",
       "    <tr style=\"text-align: right;\">\n",
       "      <th></th>\n",
       "      <th>delivery time range</th>\n",
       "      <th>expected delivery time</th>\n",
       "      <th>ontime_ornot</th>\n",
       "      <th>SHIPPED_PACKAGE_PRICE_AMT</th>\n",
       "      <th>TOT_AMT</th>\n",
       "    </tr>\n",
       "  </thead>\n",
       "  <tbody>\n",
       "    <tr>\n",
       "      <th>ontime_ornot</th>\n",
       "      <td>0.082906</td>\n",
       "      <td>0.099334</td>\n",
       "      <td>1.000000</td>\n",
       "      <td>-0.026392</td>\n",
       "      <td>0.012059</td>\n",
       "    </tr>\n",
       "    <tr>\n",
       "      <th>expected delivery time</th>\n",
       "      <td>0.726382</td>\n",
       "      <td>1.000000</td>\n",
       "      <td>0.099334</td>\n",
       "      <td>0.084179</td>\n",
       "      <td>-0.001928</td>\n",
       "    </tr>\n",
       "    <tr>\n",
       "      <th>delivery time range</th>\n",
       "      <td>1.000000</td>\n",
       "      <td>0.726382</td>\n",
       "      <td>0.082906</td>\n",
       "      <td>-0.015827</td>\n",
       "      <td>-0.001453</td>\n",
       "    </tr>\n",
       "    <tr>\n",
       "      <th>TOT_AMT</th>\n",
       "      <td>-0.001453</td>\n",
       "      <td>-0.001928</td>\n",
       "      <td>0.012059</td>\n",
       "      <td>-0.023263</td>\n",
       "      <td>1.000000</td>\n",
       "    </tr>\n",
       "    <tr>\n",
       "      <th>SHIPPED_PACKAGE_PRICE_AMT</th>\n",
       "      <td>-0.015827</td>\n",
       "      <td>0.084179</td>\n",
       "      <td>-0.026392</td>\n",
       "      <td>1.000000</td>\n",
       "      <td>-0.023263</td>\n",
       "    </tr>\n",
       "  </tbody>\n",
       "</table>\n",
       "</div>"
      ],
      "text/plain": [
       "                           delivery time range  expected delivery time  \\\n",
       "ontime_ornot                          0.082906                0.099334   \n",
       "expected delivery time                0.726382                1.000000   \n",
       "delivery time range                   1.000000                0.726382   \n",
       "TOT_AMT                              -0.001453               -0.001928   \n",
       "SHIPPED_PACKAGE_PRICE_AMT            -0.015827                0.084179   \n",
       "\n",
       "                           ontime_ornot  SHIPPED_PACKAGE_PRICE_AMT   TOT_AMT  \n",
       "ontime_ornot                   1.000000                  -0.026392  0.012059  \n",
       "expected delivery time         0.099334                   0.084179 -0.001928  \n",
       "delivery time range            0.082906                  -0.015827 -0.001453  \n",
       "TOT_AMT                        0.012059                  -0.023263  1.000000  \n",
       "SHIPPED_PACKAGE_PRICE_AMT     -0.026392                   1.000000 -0.023263  "
      ]
     },
     "execution_count": 18,
     "metadata": {},
     "output_type": "execute_result"
    }
   ],
   "source": [
    "#determined-least\n",
    "df_train['delivery time range']=df_train['DETERMINED_DELIVERY_TS']-df_train['LEAST_DELIVERY_TS']\n",
    "df_test['delivery time range']=df_test['DETERMINED_DELIVERY_TS']-df_train['LEAST_DELIVERY_TS']\n",
    "print(\"Expected delivery range for on time\")\n",
    "print(df_train[df_train['ontime_ornot']==1]['delivery time range'].describe())\n",
    "print('------------')\n",
    "print(\"Expected delivery range for delay\")\n",
    "print(df_train[df_train['ontime_ornot']==0]['delivery time range'].describe())\n",
    "#analysis: this is an effective factor, but need to check correlation\n",
    "#correlation between quantitative attributes\n",
    "df_train[(df_train['delivery time range'].notnull())&(df_train['TOT_AMT'].notnull())][['delivery time range','expected delivery time','ontime_ornot','SHIPPED_PACKAGE_PRICE_AMT','TOT_AMT']].astype(int).corr().sort_values(by='ontime_ornot',ascending=False)\n"
   ]
  },
  {
   "cell_type": "markdown",
   "metadata": {},
   "source": [
    "Step4: data manipulation after data exploration\n",
    "    1. one-hot encoding for categorical features\n",
    "    2. feature scaling for quantitative features\n",
    "    3. complete null values"
   ]
  },
  {
   "cell_type": "code",
   "execution_count": 19,
   "metadata": {},
   "outputs": [],
   "source": [
    "#extract factors\n",
    "df_train_model=df_train[['DSTRBTR_KEY','state','order_month','SHIPPED_PACKAGE_PRICE_AMT','expected delivery time','delivery time range','TOT_AMT','ontime_ornot']]\n",
    "df_test_model=df_test[['DSTRBTR_KEY','state','order_month','SHIPPED_PACKAGE_PRICE_AMT','expected delivery time','delivery time range','TOT_AMT','ontime_ornot']]"
   ]
  },
  {
   "cell_type": "code",
   "execution_count": 20,
   "metadata": {},
   "outputs": [
    {
     "name": "stdout",
     "output_type": "stream",
     "text": [
      "<class 'pandas.core.frame.DataFrame'>\n",
      "Int64Index: 8772 entries, 100 to 7050\n",
      "Data columns (total 8 columns):\n",
      "DSTRBTR_KEY                  8772 non-null int64\n",
      "state                        8772 non-null object\n",
      "order_month                  8772 non-null object\n",
      "SHIPPED_PACKAGE_PRICE_AMT    8772 non-null float64\n",
      "expected delivery time       8772 non-null timedelta64[ns]\n",
      "delivery time range          8771 non-null timedelta64[ns]\n",
      "TOT_AMT                      8712 non-null float64\n",
      "ontime_ornot                 8772 non-null int64\n",
      "dtypes: float64(2), int64(2), object(2), timedelta64[ns](2)\n",
      "memory usage: 936.8+ KB\n"
     ]
    }
   ],
   "source": [
    "df_train_model.info()"
   ]
  },
  {
   "cell_type": "code",
   "execution_count": 21,
   "metadata": {},
   "outputs": [],
   "source": [
    "#one-hot encoding for distributor, state and month\n",
    "df_train_model=pd.get_dummies(df_train_model, columns=['DSTRBTR_KEY','order_month','state'])\n",
    "df_test_model=pd.get_dummies(df_test_model, columns=['DSTRBTR_KEY','order_month','state'])"
   ]
  },
  {
   "cell_type": "code",
   "execution_count": 22,
   "metadata": {},
   "outputs": [],
   "source": [
    "df_train_model['TOT_AMT']=df_train_model['TOT_AMT'].fillna(df_train_model['TOT_AMT'].median())\n",
    "df_test_model['TOT_AMT']=df_test_model['TOT_AMT'].fillna(df_test_model['TOT_AMT'].median())"
   ]
  },
  {
   "cell_type": "code",
   "execution_count": 23,
   "metadata": {},
   "outputs": [
    {
     "name": "stderr",
     "output_type": "stream",
     "text": [
      "/anaconda3/lib/python3.6/site-packages/sklearn/preprocessing/data.py:617: DataConversionWarning: Data with input dtype int64, float64 were all converted to float64 by StandardScaler.\n",
      "  return self.partial_fit(X, y)\n",
      "/anaconda3/lib/python3.6/site-packages/sklearn/base.py:462: DataConversionWarning: Data with input dtype int64, float64 were all converted to float64 by StandardScaler.\n",
      "  return self.fit(X, **fit_params).transform(X)\n",
      "/anaconda3/lib/python3.6/site-packages/sklearn/preprocessing/data.py:617: DataConversionWarning: Data with input dtype int64, float64 were all converted to float64 by StandardScaler.\n",
      "  return self.partial_fit(X, y)\n",
      "/anaconda3/lib/python3.6/site-packages/sklearn/base.py:462: DataConversionWarning: Data with input dtype int64, float64 were all converted to float64 by StandardScaler.\n",
      "  return self.fit(X, **fit_params).transform(X)\n"
     ]
    }
   ],
   "source": [
    "#scalling for SHIPPED_PACKAGE_PRICE_AMT,OT_AMT, and expected delivery time\n",
    "df_train_model['expected delivery time']=df_train_model['expected delivery time'].astype(int)\n",
    "df_test_model['expected delivery time']=df_test_model['expected delivery time'].astype(int)\n",
    "df_train_model['delivery time range']=df_train_model['delivery time range'].astype(int)\n",
    "df_test_model['delivery time range']=df_test_model['delivery time range'].astype(int)\n",
    "from sklearn.preprocessing import StandardScaler\n",
    "df_train_model.iloc[:,0:4]= StandardScaler().fit_transform(df_train_model.iloc[:,0:4])\n",
    "df_test_model.iloc[:,0:4]= StandardScaler().fit_transform(df_test_model.iloc[:,0:4])\n"
   ]
  },
  {
   "cell_type": "code",
   "execution_count": 24,
   "metadata": {},
   "outputs": [
    {
     "name": "stdout",
     "output_type": "stream",
     "text": [
      "state\n",
      "AE    9\n",
      "AK    3\n",
      "HI    4\n",
      "PR    1\n",
      "VI    9\n",
      "WY    6\n",
      "dtype: int64\n"
     ]
    }
   ],
   "source": [
    "#remove states with too few observations\n",
    "a=pd.Series(df_train.index).groupby(df_train['state']).agg('count')\n",
    "print(a[a<10])\n",
    "df_train_model=df_train_model.drop(['state_AE','state_AK','state_HI','state_PR','state_VI','state_WY'],axis=1)\n",
    "df_test_model=df_test_model.drop(['state_AK','state_HI','state_VI','state_WY'],axis=1)\n",
    "#add IA so that train and test data can be same\n",
    "df_test_model['state_IA']=0\n",
    "df_test_model['state_DC']=0\n",
    "df_test_model=df_test_model[list(df_train_model.columns)]\n",
    "\n",
    "\n"
   ]
  },
  {
   "cell_type": "code",
   "execution_count": 111,
   "metadata": {},
   "outputs": [],
   "source": [
    "df_train_model=df_train_model.drop('Unnamed: 0',axis=1)\n",
    "df_test_model=df_test_model.drop('Unnamed: 0',axis=1)"
   ]
  },
  {
   "cell_type": "code",
   "execution_count": 25,
   "metadata": {},
   "outputs": [],
   "source": [
    "df_train_model.to_csv('df_train_model.csv')\n",
    "df_test_model.to_csv('df_test_model.csv')"
   ]
  },
  {
   "cell_type": "code",
   "execution_count": 26,
   "metadata": {},
   "outputs": [],
   "source": [
    "df_train_model=pd.read_csv('df_train_model.csv')\n",
    "df_test_model=pd.read_csv('df_test_model.csv')"
   ]
  },
  {
   "cell_type": "markdown",
   "metadata": {},
   "source": [
    "Step 5:  find the best model\n",
    "1. Models used: Random Forest, Xgboost,KNN, Logistic regression\n",
    "2. Evalution metrics: I use AUC/ROC because it is animblance classification problem\n",
    "3. Avoid overfitting techniques: K-fold cross validation, tuning hyperparameters\n",
    "\n"
   ]
  },
  {
   "cell_type": "code",
   "execution_count": 132,
   "metadata": {},
   "outputs": [],
   "source": [
    "#split into X and y\n",
    "X=df_train_model.drop('ontime_ornot',axis=1)\n",
    "y=df_train_model['ontime_ornot']"
   ]
  },
  {
   "cell_type": "code",
   "execution_count": 134,
   "metadata": {},
   "outputs": [
    {
     "name": "stdout",
     "output_type": "stream",
     "text": [
      "Best: 0.816257 using {'max_depth': 19, 'max_features': 'log2', 'n_estimators': 450}\n"
     ]
    }
   ],
   "source": [
    "#tune randanm forest\n",
    "#hyperparameter: number of trees, max depth, and max features\n",
    "from sklearn.ensemble import RandomForestClassifier\n",
    "from sklearn.model_selection import GridSearchCV\n",
    "from sklearn.model_selection import StratifiedKFold\n",
    "from sklearn.preprocessing import LabelEncoder\n",
    "model = ensemble.RandomForestClassifier()\n",
    "n_estimators = range(50, 500, 50)\n",
    "max_depth=range(3,20,1)\n",
    "max_features=('sqrt','log2')\n",
    "param_grid = dict(n_estimators=n_estimators,max_features =max_features,max_depth=max_depth)\n",
    "kfold = StratifiedKFold(n_splits=4, shuffle=True, random_state=7)\n",
    "grid_search = GridSearchCV(model, param_grid, scoring=\"roc_auc\", n_jobs=-1, cv=kfold)\n",
    "grid_result = grid_search.fit(X, y)\n",
    "print(\"Best: %f using %s\" % (grid_result.best_score_, grid_result.best_params_))"
   ]
  },
  {
   "cell_type": "code",
   "execution_count": 135,
   "metadata": {},
   "outputs": [
    {
     "name": "stdout",
     "output_type": "stream",
     "text": [
      "Best: 0.806741 using {'max_depth': 9, 'n_estimators': 250}\n"
     ]
    }
   ],
   "source": [
    "#tune xgboost\n",
    "#tune number of trees, max depth\n",
    "import xgboost as xgb\n",
    "model = xgb.XGBClassifier()\n",
    "n_estimators = range(50, 500, 50)\n",
    "max_depth=range(3,10,1)\n",
    "param_grid = dict(n_estimators=n_estimators,max_depth=max_depth)\n",
    "kfold = StratifiedKFold(n_splits=4, shuffle=True, random_state=7)\n",
    "grid_search = GridSearchCV(model, param_grid, scoring=\"roc_auc\", n_jobs=-1, cv=kfold)\n",
    "grid_result = grid_search.fit(X, y)\n",
    "print(\"Best: %f using %s\" % (grid_result.best_score_, grid_result.best_params_))"
   ]
  },
  {
   "cell_type": "code",
   "execution_count": 136,
   "metadata": {},
   "outputs": [
    {
     "name": "stdout",
     "output_type": "stream",
     "text": [
      "Best: 0.735478 using {'n_neighbors': 6}\n"
     ]
    }
   ],
   "source": [
    "#tune knn\n",
    "#tune number of neigbors\n",
    "from sklearn.neighbors import KNeighborsClassifier\n",
    "model =KNeighborsClassifier()\n",
    "n_neighbors = range(5, 20, 1)\n",
    "param_grid = dict(n_neighbors=n_neighbors)\n",
    "kfold = StratifiedKFold(n_splits=4, shuffle=True, random_state=7)\n",
    "grid_search = GridSearchCV(model, param_grid, scoring=\"roc_auc\", n_jobs=-1, cv=kfold)\n",
    "grid_result = grid_search.fit(X, y)\n",
    "print(\"Best: %f using %s\" % (grid_result.best_score_, grid_result.best_params_))"
   ]
  },
  {
   "cell_type": "code",
   "execution_count": 120,
   "metadata": {},
   "outputs": [
    {
     "name": "stdout",
     "output_type": "stream",
     "text": [
      "Best: 0.676890 using {'penalty': 'l1'}\n"
     ]
    },
    {
     "name": "stderr",
     "output_type": "stream",
     "text": [
      "/anaconda3/lib/python3.6/site-packages/sklearn/linear_model/logistic.py:432: FutureWarning: Default solver will be changed to 'lbfgs' in 0.22. Specify a solver to silence this warning.\n",
      "  FutureWarning)\n"
     ]
    }
   ],
   "source": [
    "#tune logistic regression\n",
    "#tune l1 or l2 regularization\n",
    "from sklearn.linear_model import LogisticRegression\n",
    "model =LogisticRegression()\n",
    "penalty=('l1','l2')\n",
    "param_grid = dict(penalty=penalty)\n",
    "kfold = StratifiedKFold(n_splits=4, shuffle=True, random_state=7)\n",
    "grid_search = GridSearchCV(model, param_grid, scoring=\"roc_auc\", n_jobs=-1, cv=kfold)\n",
    "grid_result = grid_search.fit(X, y)\n",
    "print(\"Best: %f using %s\" % (grid_result.best_score_, grid_result.best_params_))"
   ]
  },
  {
   "cell_type": "code",
   "execution_count": 137,
   "metadata": {},
   "outputs": [],
   "source": [
    "#based on the cross validation result, the best model is as follow:\n",
    "model=ensemble.RandomForestClassifier(max_depth=19,max_features='log2',n_estimators=450)\n"
   ]
  },
  {
   "cell_type": "markdown",
   "metadata": {},
   "source": [
    "Precision-recall trade off: find the best threshold\n",
    "1. In this problem, we want to capture the delays as much as possible. False positives are less important than false negatives. Since recall is more important than precision, we use an adjusted F1 score as metric, which gives more weight to recall, to find the best threshold (no accurate meaning, need more business data to have more specific metrics)"
   ]
  },
  {
   "cell_type": "code",
   "execution_count": 138,
   "metadata": {},
   "outputs": [
    {
     "data": {
      "text/html": [
       "<div>\n",
       "<style scoped>\n",
       "    .dataframe tbody tr th:only-of-type {\n",
       "        vertical-align: middle;\n",
       "    }\n",
       "\n",
       "    .dataframe tbody tr th {\n",
       "        vertical-align: top;\n",
       "    }\n",
       "\n",
       "    .dataframe thead th {\n",
       "        text-align: right;\n",
       "    }\n",
       "</style>\n",
       "<table border=\"1\" class=\"dataframe\">\n",
       "  <thead>\n",
       "    <tr style=\"text-align: right;\">\n",
       "      <th></th>\n",
       "      <th>model</th>\n",
       "      <th>threshold</th>\n",
       "      <th>recall</th>\n",
       "      <th>precision</th>\n",
       "      <th>metrics_defined</th>\n",
       "    </tr>\n",
       "  </thead>\n",
       "  <tbody>\n",
       "    <tr>\n",
       "      <th>1</th>\n",
       "      <td>Random Forest</td>\n",
       "      <td>0.15</td>\n",
       "      <td>0.443169</td>\n",
       "      <td>0.484511</td>\n",
       "      <td>0.304095</td>\n",
       "    </tr>\n",
       "    <tr>\n",
       "      <th>0</th>\n",
       "      <td>Random Forest</td>\n",
       "      <td>0.10</td>\n",
       "      <td>0.613746</td>\n",
       "      <td>0.271640</td>\n",
       "      <td>0.288184</td>\n",
       "    </tr>\n",
       "    <tr>\n",
       "      <th>2</th>\n",
       "      <td>Random Forest</td>\n",
       "      <td>0.20</td>\n",
       "      <td>0.352756</td>\n",
       "      <td>0.650777</td>\n",
       "      <td>0.277536</td>\n",
       "    </tr>\n",
       "    <tr>\n",
       "      <th>3</th>\n",
       "      <td>Random Forest</td>\n",
       "      <td>0.25</td>\n",
       "      <td>0.295883</td>\n",
       "      <td>0.736249</td>\n",
       "      <td>0.246376</td>\n",
       "    </tr>\n",
       "    <tr>\n",
       "      <th>4</th>\n",
       "      <td>Random Forest</td>\n",
       "      <td>0.30</td>\n",
       "      <td>0.241959</td>\n",
       "      <td>0.807950</td>\n",
       "      <td>0.210447</td>\n",
       "    </tr>\n",
       "    <tr>\n",
       "      <th>5</th>\n",
       "      <td>Random Forest</td>\n",
       "      <td>0.35</td>\n",
       "      <td>0.188018</td>\n",
       "      <td>0.889056</td>\n",
       "      <td>0.170039</td>\n",
       "    </tr>\n",
       "    <tr>\n",
       "      <th>6</th>\n",
       "      <td>Random Forest</td>\n",
       "      <td>0.40</td>\n",
       "      <td>0.148664</td>\n",
       "      <td>0.900735</td>\n",
       "      <td>0.137331</td>\n",
       "    </tr>\n",
       "    <tr>\n",
       "      <th>7</th>\n",
       "      <td>Random Forest</td>\n",
       "      <td>0.45</td>\n",
       "      <td>0.126810</td>\n",
       "      <td>0.942369</td>\n",
       "      <td>0.118816</td>\n",
       "    </tr>\n",
       "  </tbody>\n",
       "</table>\n",
       "</div>"
      ],
      "text/plain": [
       "           model  threshold    recall  precision  metrics_defined\n",
       "1  Random Forest       0.15  0.443169   0.484511         0.304095\n",
       "0  Random Forest       0.10  0.613746   0.271640         0.288184\n",
       "2  Random Forest       0.20  0.352756   0.650777         0.277536\n",
       "3  Random Forest       0.25  0.295883   0.736249         0.246376\n",
       "4  Random Forest       0.30  0.241959   0.807950         0.210447\n",
       "5  Random Forest       0.35  0.188018   0.889056         0.170039\n",
       "6  Random Forest       0.40  0.148664   0.900735         0.137331\n",
       "7  Random Forest       0.45  0.126810   0.942369         0.118816"
      ]
     },
     "execution_count": 138,
     "metadata": {},
     "output_type": "execute_result"
    }
   ],
   "source": [
    "#precision recall trade off:\n",
    "# \n",
    "from sklearn.metrics import confusion_matrix\n",
    "\n",
    "Performance=[]\n",
    "for thr in np.arange(0.1,0.5,0.05):\n",
    "    re=[]\n",
    "    pr=[]\n",
    "    kf = StratifiedKFold(n_splits=4, random_state=42)\n",
    "    for train_index, test_index in kf.split(X.values,y.values):\n",
    "        X_train_folds = X.values[train_index]\n",
    "        y_train_folds = (y.values[train_index])\n",
    "        X_test_fold = X.values[test_index]\n",
    "        y_test_fold = (y.values[test_index])\n",
    "        model.fit(X_train_folds, y_train_folds)\n",
    "        y_predict=pd.DataFrame(model.predict_proba(X_test_fold))\n",
    "        b=y_predict.iloc[:,0]\n",
    "        y_predict['prediction']=np.where(b>=thr,0,1)\n",
    "        y_predict=y_predict['prediction'].values\n",
    "        m=confusion_matrix(y_test_fold,y_predict)\n",
    "        re.append(m[0,0]/(m[0,0]+m[0,1]))\n",
    "        pr.append(m[0,0]/(m[0,0]+m[1,0]))\n",
    "    PR=sum(pr)/len(pr)\n",
    "    RE=sum(re)/len(re)\n",
    "    performance=['Random Forest',thr,RE,PR,2/(2/RE+1/PR)]\n",
    "    Performance.append(performance)\n",
    "Performance=pd.DataFrame(Performance)\n",
    "Performance.columns=['model','threshold','recall','precision','metrics_defined']\n",
    "Performance.sort_values(by='metrics_defined',ascending=False)\n",
    "\n",
    "#Based on the metric, the best threshold is 0.15\n"
   ]
  },
  {
   "cell_type": "code",
   "execution_count": 139,
   "metadata": {},
   "outputs": [
    {
     "name": "stdout",
     "output_type": "stream",
     "text": [
      "test result: accuracy 91.518% recall 37.427% precision 44.755%\n"
     ]
    }
   ],
   "source": [
    "#test on test data now\n",
    "\n",
    "X_test=df_test_model.drop('ontime_ornot',axis=1)\n",
    "y_test=df_test_model['ontime_ornot']\n",
    "model.fit(X,y)\n",
    "y_predict=pd.DataFrame(model.predict_proba(X_test))\n",
    "b=y_predict.iloc[:,0]\n",
    "y_predict['prediction']=np.where(b>=0.15,0,1)\n",
    "m=confusion_matrix(y_test,y_predict['prediction'])\n",
    "re=m[0,0]/(m[0,0]+m[0,1])\n",
    "pr=m[0,0]/(m[0,0]+m[1,0])\n",
    "ac=(m[0,0]+m[1,1])/(m[0,0]+m[1,1]+m[0,1]+m[1,0])\n",
    "\n",
    "print('test result: accuracy','{:.3%}'.format(ac),'recall','{:.3%}'.format(re),'precision','{:.3%}'.format(pr))\n",
    "\n",
    "\n"
   ]
  },
  {
   "cell_type": "markdown",
   "metadata": {},
   "source": []
  }
 ],
 "metadata": {
  "kernelspec": {
   "display_name": "Python 3",
   "language": "python",
   "name": "python3"
  },
  "language_info": {
   "codemirror_mode": {
    "name": "ipython",
    "version": 3
   },
   "file_extension": ".py",
   "mimetype": "text/x-python",
   "name": "python",
   "nbconvert_exporter": "python",
   "pygments_lexer": "ipython3",
   "version": "3.6.5"
  }
 },
 "nbformat": 4,
 "nbformat_minor": 2
}
